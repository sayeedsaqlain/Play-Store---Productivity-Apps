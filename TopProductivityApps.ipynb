{
 "cells": [
  {
   "cell_type": "markdown",
   "id": "35d5bab7",
   "metadata": {},
   "source": [
    "### Importing Libraries"
   ]
  },
  {
   "cell_type": "code",
   "execution_count": 93,
   "id": "8b31fe56",
   "metadata": {},
   "outputs": [],
   "source": [
    "from bs4 import BeautifulSoup\n",
    "import requests,openpyxl"
   ]
  },
  {
   "cell_type": "markdown",
   "id": "b5520afb",
   "metadata": {},
   "source": [
    "### Creating Excel Sheet"
   ]
  },
  {
   "cell_type": "code",
   "execution_count": 97,
   "id": "88d853b8",
   "metadata": {},
   "outputs": [
    {
     "name": "stdout",
     "output_type": "stream",
     "text": [
      "['Top Productivity Apps']\n"
     ]
    }
   ],
   "source": [
    "# Creating sheet and columns\n",
    "\n",
    "excel = openpyxl.Workbook()\n",
    "sheet = excel.active\n",
    "sheet.title = 'Top Productivity Apps'\n",
    "print(excel.sheetnames)\n",
    "\n",
    "sheet.append(['Name','Developer','Ratings'])"
   ]
  },
  {
   "cell_type": "markdown",
   "id": "5289a632",
   "metadata": {},
   "source": [
    "### Scrape Play Store and Capture App Details"
   ]
  },
  {
   "cell_type": "code",
   "execution_count": 96,
   "id": "c1d87d4e",
   "metadata": {},
   "outputs": [
    {
     "name": "stdout",
     "output_type": "stream",
     "text": [
      "Google Tasks Google LLC 4.6\n",
      "Forest: Focus for Productivity Seekrtech 4.7\n",
      "Focus To-Do: Pomodoro & Tasks Pomodoro Timer & To Do List - SuperElement Soft 4.6\n",
      "Habitica: Gamify Your Tasks HabitRPG, Inc. 4.3\n",
      "Todoist: to-do list & planner Doist Inc. 4.5\n",
      "LifeUp: Gamify To-Do & Habit AyagiKei 4.5\n",
      "Routinery: Self-Care/Routine Routinery 4.5\n",
      "Google Calendar Google LLC 4.2\n",
      "Notion - notes, docs, tasks Notion Labs, Inc. 3.7\n",
      "Evernote - Note Organizer Evernote Corporation 4.1\n",
      "Microsoft To Do: Lists & Tasks Microsoft Corporation 4.6\n",
      "TickTick:To-do list & Tasks Appest Inc. 4.7\n",
      "Google Slides Google LLC 4.1\n",
      "Adobe Acrobat Reader: Edit PDF Adobe 4.6\n",
      "HabitNow Daily Routine Planner HabitNow 4.8\n",
      "monday.com - Work Management monday.com 4.9\n",
      "Sectograph. Day & Time planner Laboratory 27 4.4\n",
      "Mind Map Maker - Mindomo Expert Software Applications Srl 4.7\n",
      "To-Do List - Schedule Planner Dairy App & Notes & Audio Editor & Voice Recorder 4.7\n"
     ]
    }
   ],
   "source": [
    "try:\n",
    "    # accessing the Website\n",
    "    source = requests.get('https://play.google.com/store/search?q=productivity+apps&c=apps')\n",
    "    source.raise_for_status()\n",
    "    soup = BeautifulSoup(source.text, 'html.parser')\n",
    "    \n",
    "    applist = soup.find('div', class_='fUEl2e').find_all('div', class_='ULeU3b')\n",
    "    #print(len(applist))\n",
    "    \n",
    "    for app in applist:\n",
    "        \n",
    "        name = app.find('div', class_='ubGTjb').text\n",
    "        #desc = app.find('div', class_='cXFu1').find_all('div', class_='ubGTjb')\n",
    "        developer = app.find('span', class_='wMUdtb').text\n",
    "        ratings = app.find('span', class_='w2kbF')\n",
    "        \n",
    "        if ratings:\n",
    "            ratings = ratings.text\n",
    "            print(name, developer ,ratings)\n",
    "            sheet.append([name, developer, ratings])\n",
    "        else: pass\n",
    "    \n",
    "except Exception as e:\n",
    "    print(e)\n",
    "    \n",
    "\n",
    "# Saving Excel file\n",
    "excel.save('Top Productivity Apps.xlsx')"
   ]
  },
  {
   "cell_type": "code",
   "execution_count": null,
   "id": "5e7ee740",
   "metadata": {},
   "outputs": [],
   "source": []
  }
 ],
 "metadata": {
  "kernelspec": {
   "display_name": "Python 3 (ipykernel)",
   "language": "python",
   "name": "python3"
  },
  "language_info": {
   "codemirror_mode": {
    "name": "ipython",
    "version": 3
   },
   "file_extension": ".py",
   "mimetype": "text/x-python",
   "name": "python",
   "nbconvert_exporter": "python",
   "pygments_lexer": "ipython3",
   "version": "3.9.12"
  }
 },
 "nbformat": 4,
 "nbformat_minor": 5
}
